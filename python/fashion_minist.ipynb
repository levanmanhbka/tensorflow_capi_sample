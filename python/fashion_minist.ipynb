{
 "metadata": {
  "language_info": {
   "codemirror_mode": {
    "name": "ipython",
    "version": 3
   },
   "file_extension": ".py",
   "mimetype": "text/x-python",
   "name": "python",
   "nbconvert_exporter": "python",
   "pygments_lexer": "ipython3",
   "version": "3.6.8-final"
  },
  "orig_nbformat": 2,
  "kernelspec": {
   "name": "python3",
   "display_name": "Python 3.6.8 64-bit ('VenvTF230': venv)",
   "metadata": {
    "interpreter": {
     "hash": "6f6756a964c3ce5b86486e18ba098a1c4a64581d5e2594bc01b34df89c8e4db4"
    }
   }
  }
 },
 "nbformat": 4,
 "nbformat_minor": 2,
 "cells": [
  {
   "cell_type": "code",
   "execution_count": null,
   "metadata": {},
   "outputs": [],
   "source": [
    "# TensorFlow and tf.keras\n",
    "import tensorflow as tf\n",
    "\n",
    "# Helper libraries\n",
    "import numpy as np\n",
    "import matplotlib.pyplot as plt"
   ]
  },
  {
   "cell_type": "code",
   "execution_count": null,
   "metadata": {},
   "outputs": [],
   "source": [
    "print(tf.__version__)\n",
    "\n",
    "fashion_mnist = tf.keras.datasets.fashion_mnist\n",
    "\n",
    "(train_images, train_labels), (test_images, test_label) = fashion_mnist.load_data()"
   ]
  },
  {
   "cell_type": "code",
   "execution_count": null,
   "metadata": {},
   "outputs": [],
   "source": [
    "train_images.shape"
   ]
  },
  {
   "cell_type": "code",
   "execution_count": null,
   "metadata": {},
   "outputs": [],
   "source": [
    "train_labels.shape"
   ]
  },
  {
   "cell_type": "code",
   "execution_count": null,
   "metadata": {},
   "outputs": [],
   "source": [
    "test_images.shape"
   ]
  },
  {
   "cell_type": "code",
   "execution_count": null,
   "metadata": {},
   "outputs": [],
   "source": [
    "test_label.shape"
   ]
  },
  {
   "cell_type": "code",
   "execution_count": null,
   "metadata": {},
   "outputs": [],
   "source": [
    "train_images = train_images / 255.0\n",
    "test_images = test_images / 255.0\n"
   ]
  },
  {
   "cell_type": "code",
   "execution_count": null,
   "metadata": {},
   "outputs": [],
   "source": [
    "def create_model():\n",
    "    inputs = tf.keras.Input(shape=(28, 28, 1))\n",
    "    x = tf.keras.layers.Conv2D(filters= 4, kernel_size=(3, 3), strides=(1, 1), padding= \"same\")(inputs)\n",
    "    x = tf.keras.layers.BatchNormalization(axis= -1)(x)\n",
    "    x = tf.keras.layers.MaxPool2D(pool_size=(2, 2))(x)\n",
    "\n",
    "    x = tf.keras.layers.Conv2D(filters= 4, kernel_size=(3, 3), strides=(1, 1), padding= \"same\")(inputs)\n",
    "    x = tf.keras.layers.BatchNormalization(axis= -1)(x)\n",
    "    x = tf.keras.layers.MaxPool2D(pool_size=(2, 2))(x)\n",
    "\n",
    "    x = tf.keras.layers.Conv2D(filters= 4, kernel_size=(3, 3), strides=(1, 1), padding= \"same\")(inputs)\n",
    "    x = tf.keras.layers.BatchNormalization(axis= -1)(x)\n",
    "    x = tf.keras.layers.MaxPool2D(pool_size=(2, 2))(x)\n",
    "\n",
    "    x = tf.keras.layers.Flatten()(x)\n",
    "    x = tf.keras.layers.Dense(units= 128, activation= \"relu\")(x)\n",
    "    x = tf.keras.layers.Dropout(rate= 0.5)(x)\n",
    "    x = tf.keras.layers.Dense(units= 64, activation= \"relu\")(x)\n",
    "    x = tf.keras.layers.Dropout(rate= 0.5)(x)\n",
    "    \n",
    "    outputs = tf.keras.layers.Dense(units= 10, activation= \"softmax\")(x)\n",
    "    model = tf.keras.models.Model(inputs= inputs, outputs= outputs)\n",
    "    return model"
   ]
  },
  {
   "cell_type": "code",
   "execution_count": null,
   "metadata": {},
   "outputs": [],
   "source": [
    "model = create_model()\n",
    "model.summary()\n",
    "optimizer = tf.keras.optimizers.Adam(learning_rate= 0.001)\n",
    "model.compile(optimizer= optimizer, loss= \"categorical_crossentropy\", metrics=[\"accuracy\"])\n"
   ]
  },
  {
   "cell_type": "code",
   "execution_count": null,
   "metadata": {},
   "outputs": [],
   "source": [
    "train_labels = tf.keras.utils.to_categorical(y= train_labels, num_classes= 10)"
   ]
  },
  {
   "cell_type": "code",
   "execution_count": null,
   "metadata": {},
   "outputs": [],
   "source": [
    "train_labels.shape"
   ]
  },
  {
   "cell_type": "code",
   "execution_count": null,
   "metadata": {},
   "outputs": [],
   "source": [
    "model.fit(x= train_images, y= train_labels, batch_size= 8, epochs=10)"
   ]
  },
  {
   "cell_type": "code",
   "execution_count": null,
   "metadata": {},
   "outputs": [],
   "source": [
    "model.save(\"image_classification\", save_format=\"tf\")"
   ]
  }
 ]
}